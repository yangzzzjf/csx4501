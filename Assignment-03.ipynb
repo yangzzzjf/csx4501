{
 "cells": [
  {
   "cell_type": "markdown",
   "id": "1c88d20b-c492-428a-97d2-61ea99b84031",
   "metadata": {},
   "source": [
    "# Matplotlib"
   ]
  },
  {
   "cell_type": "markdown",
   "id": "82c68329-26aa-4c9a-91f3-bb31ba0ade31",
   "metadata": {},
   "source": [
    "The following imports numpy.  Do similar imports for matplotlib.pyplot and pandas:"
   ]
  },
  {
   "cell_type": "code",
   "execution_count": 4,
   "id": "4153e8d6-a3a3-41f8-9a5f-3ebacfbb351e",
   "metadata": {},
   "outputs": [],
   "source": [
    "import numpy as np\n",
    "import matplotlib.pyplot as plt\n",
    "import pandas as pd"
   ]
  },
  {
   "cell_type": "markdown",
   "id": "6c2d1121-80e8-4fd7-bdb7-49c37a06651e",
   "metadata": {},
   "source": [
    "We're going to generate some plots of fictitious data that follow this equation:\n",
    "\n",
    "$$ y(x) = 4 + 2x - x^2 + 0.075x^3 $$\n",
    "\n",
    "The following cell generates our `x` and `y` arrays."
   ]
  },
  {
   "cell_type": "code",
   "execution_count": null,
   "id": "22d33dba-bc76-42c1-aa34-abd4e7c438b1",
   "metadata": {},
   "outputs": [],
   "source": [
    "x = np.linspace(0, 10, 50)\n",
    "y = 4 + 2*x - x**2 + 0.075*x**3"
   ]
  },
  {
   "cell_type": "markdown",
   "id": "235e7850-cfa2-4f82-ac0a-aa4ebfefae9c",
   "metadata": {},
   "source": [
    "Use the matplotlib.pyplot module to make a plot of `y` against `x` (y vertically, x horizontally):"
   ]
  },
  {
   "cell_type": "code",
   "execution_count": 9,
   "id": "db4c018c-5cb2-4d77-b576-06d24afa2cf9",
   "metadata": {
    "collapsed": true,
    "jupyter": {
     "outputs_hidden": true
    },
    "tags": []
   },
   "outputs": [
    {
     "ename": "NameError",
     "evalue": "name 'x' is not defined",
     "output_type": "error",
     "traceback": [
      "\u001b[0;31m---------------------------------------------------------------------------\u001b[0m",
      "\u001b[0;31mNameError\u001b[0m                                 Traceback (most recent call last)",
      "Input \u001b[0;32mIn [9]\u001b[0m, in \u001b[0;36m<cell line: 1>\u001b[0;34m()\u001b[0m\n\u001b[0;32m----> 1\u001b[0m plt\u001b[38;5;241m.\u001b[39mplot(\u001b[43mx\u001b[49m, y)\n\u001b[1;32m      2\u001b[0m plt\u001b[38;5;241m.\u001b[39mylabel(\u001b[38;5;124m'\u001b[39m\u001b[38;5;124my\u001b[39m\u001b[38;5;124m'\u001b[39m)\n\u001b[1;32m      3\u001b[0m plt\u001b[38;5;241m.\u001b[39mxlabel(\u001b[38;5;124m'\u001b[39m\u001b[38;5;124mx\u001b[39m\u001b[38;5;124m'\u001b[39m)\n",
      "\u001b[0;31mNameError\u001b[0m: name 'x' is not defined"
     ]
    }
   ],
   "source": [
    "plt.plot(x,y)\n",
    "plt.ylabel('y')\n",
    "plt.xlabel('x')\n",
    "plt.show()"
   ]
  },
  {
   "cell_type": "markdown",
   "id": "b5fab33a-c8d1-4194-81c7-01477245cf57",
   "metadata": {},
   "source": [
    "(Check your ranges in the plot to make sure that `x` values are plotted horizontally and `y` values are plotted vertically.)"
   ]
  },
  {
   "cell_type": "markdown",
   "id": "e2ff28bf-c408-4d80-84a6-21ac685a1a63",
   "metadata": {},
   "source": [
    "Real data is usually noisy.  It may be noise from measurement, or \"noise\" in the sense that there are aspects of the data that aren't captured by the features that we measure.\n",
    "\n",
    "The following cell introduces some random noise into a new variable `y_with_noise` that equals `y + noise`"
   ]
  },
  {
   "cell_type": "code",
   "execution_count": null,
   "id": "f3dbb8c1-6705-41fa-ac09-1b5bd14ec7bd",
   "metadata": {},
   "outputs": [],
   "source": [
    "# generate 50 points from a normal \n",
    "# distribution that has mean = 0 and std dev = 1.5\n",
    "noise = np.random.normal(0,1.5,50)\n",
    "\n",
    "# this y is now the theoretical value + noise\n",
    "y_with_noise = 4 + 2*x - x**2 + 0.075*x**3 + noise"
   ]
  },
  {
   "cell_type": "markdown",
   "id": "9ff76aed-e0a8-4543-9ab5-e0ff7f816257",
   "metadata": {},
   "source": [
    "Make a plot of y_with_noise against x:"
   ]
  },
  {
   "cell_type": "code",
   "execution_count": 13,
   "id": "fd5bd44b-d971-494f-9b34-0b2b80726564",
   "metadata": {
    "collapsed": true,
    "jupyter": {
     "outputs_hidden": true
    },
    "tags": []
   },
   "outputs": [
    {
     "ename": "NameError",
     "evalue": "name 'noise' is not defined",
     "output_type": "error",
     "traceback": [
      "\u001b[0;31m---------------------------------------------------------------------------\u001b[0m",
      "\u001b[0;31mNameError\u001b[0m                                 Traceback (most recent call last)",
      "Input \u001b[0;32mIn [13]\u001b[0m, in \u001b[0;36m<cell line: 1>\u001b[0;34m()\u001b[0m\n\u001b[0;32m----> 1\u001b[0m plt\u001b[38;5;241m.\u001b[39mplot(\u001b[43mnoise\u001b[49m,y_with_noise)\n\u001b[1;32m      2\u001b[0m plt\u001b[38;5;241m.\u001b[39mshow()\n",
      "\u001b[0;31mNameError\u001b[0m: name 'noise' is not defined"
     ]
    }
   ],
   "source": [
    "\n",
    "plt.plot(noise,y_with_noise)\n",
    "plt.show()"
   ]
  },
  {
   "cell_type": "markdown",
   "id": "79377945-4d01-4856-a8ee-25b235ea0452",
   "metadata": {},
   "source": [
    "Make a figure that includes\n",
    "* scatter plot of y_with_noise against x\n",
    "* line plot of y against x"
   ]
  },
  {
   "cell_type": "code",
   "execution_count": 14,
   "id": "0aafaa6b-f63a-4328-b644-5a57e7c7fd50",
   "metadata": {
    "collapsed": true,
    "jupyter": {
     "outputs_hidden": true
    },
    "tags": []
   },
   "outputs": [
    {
     "ename": "NameError",
     "evalue": "name 'noise' is not defined",
     "output_type": "error",
     "traceback": [
      "\u001b[0;31m---------------------------------------------------------------------------\u001b[0m",
      "\u001b[0;31mNameError\u001b[0m                                 Traceback (most recent call last)",
      "Input \u001b[0;32mIn [14]\u001b[0m, in \u001b[0;36m<cell line: 1>\u001b[0;34m()\u001b[0m\n\u001b[0;32m----> 1\u001b[0m x \u001b[38;5;241m=\u001b[39m \u001b[43mnoise\u001b[49m\n\u001b[1;32m      2\u001b[0m y \u001b[38;5;241m=\u001b[39m y_with_noise\n\u001b[1;32m      4\u001b[0m plt\u001b[38;5;241m.\u001b[39mscatter(noise,y_with_noise)\n",
      "\u001b[0;31mNameError\u001b[0m: name 'noise' is not defined"
     ]
    }
   ],
   "source": [
    "\n",
    "plt.scatter(noise,y_with_noise)\n",
    "plt.show()\n",
    "\n",
    "plt.plot(x,y)\n",
    "plt.show()"
   ]
  },
  {
   "cell_type": "markdown",
   "id": "b8f7d04a-c4b0-49bb-9130-301fb2a8fc4c",
   "metadata": {},
   "source": [
    "Make the same plot again with:\n",
    "* labels for the x-axis and y-axis\n",
    "* a title\n",
    "* 16-pt font size for the labels and title\n",
    "* make the line blue\n",
    "* make the scatter points black"
   ]
  },
  {
   "cell_type": "code",
   "execution_count": null,
   "id": "eda9195e-e8c1-4c6e-b90d-b652cedfc293",
   "metadata": {},
   "outputs": [],
   "source": [
    "plt.plot(x,y)\n",
    "plt.ylabel('y', fontsize=16)\n",
    "plt.xlabel('x', fontsize=16)\n",
    "\n",
    "plt.text('title',fontsize=16,color='blue')\n",
    "plt.show()\n",
    "\n",
    "plt.scatter(noise,y_with_noise)\n",
    "plt.ylabel('y_with_noise', fontsize=16)\n",
    "plt.xlabel('noise', fontsize=16)\n",
    "\n",
    "plt.text('title',fontsize=16,color='black')\n",
    "plt.show()"
   ]
  },
  {
   "cell_type": "markdown",
   "id": "b9c41607-2e74-4d54-959c-828da540e1b3",
   "metadata": {},
   "source": [
    "Save the figure into a file named 'matplotlib-plot.png':"
   ]
  },
  {
   "cell_type": "code",
   "execution_count": null,
   "id": "2812736e-5988-423f-be2b-b88e692db3ff",
   "metadata": {},
   "outputs": [],
   "source": [
    "fig.savefig('matplotlib-plot.png')"
   ]
  },
  {
   "cell_type": "markdown",
   "id": "bedc76eb-9e34-4212-bb48-e8ad72a77bd1",
   "metadata": {},
   "source": [
    "Generate the same plot using the figure and axes objects (you can use the matplotlib.pyplot module to generate the figure, but otherwise don't use matplotlib.pyplot.)\n",
    "\n",
    "* The documentation for matplotlib.axes -> https://matplotlib.org/stable/api/axes_api.html\n",
    "* The documentation for matplotlib.figure -> https://matplotlib.org/stable/api/figure_api.html\n",
    "\n",
    "Save the figure into the file 'figure-plot.png'"
   ]
  },
  {
   "cell_type": "code",
   "execution_count": null,
   "id": "895dd63d-c16d-40d8-979b-d608220980cc",
   "metadata": {},
   "outputs": [],
   "source": [
    "plt.savefig('figure-plot.png')\n",
    "\n",
    "plt.close()"
   ]
  },
  {
   "cell_type": "markdown",
   "id": "a52c57ef-cad7-4fdd-a74c-2ff6e6318517",
   "metadata": {},
   "source": [
    "# Pandas"
   ]
  },
  {
   "cell_type": "markdown",
   "id": "3af8d0fb-64f1-4a29-b03e-de2f66229307",
   "metadata": {},
   "source": [
    "Use pandas to import the data from 'anscombe.csv' into a dataframe variable"
   ]
  },
  {
   "cell_type": "code",
   "execution_count": null,
   "id": "cffdb782-ed25-47da-9f8f-293ff4875663",
   "metadata": {},
   "outputs": [],
   "source": [
    "dinodata = pd.read_csv('anscombe.csv')"
   ]
  },
  {
   "cell_type": "markdown",
   "id": "46ee098e-bd1c-4760-b325-364a05c88684",
   "metadata": {},
   "source": [
    "Print the first 2 rows of the dataframe:"
   ]
  },
  {
   "cell_type": "code",
   "execution_count": null,
   "id": "2f9acb9f-b97b-45e2-8437-30b73d2e15f4",
   "metadata": {},
   "outputs": [],
   "source": [
    "dinodata.loc[[0,1]]"
   ]
  },
  {
   "cell_type": "markdown",
   "id": "235e680b-4059-4034-9671-e8e01f7f2193",
   "metadata": {},
   "source": [
    "Print the last 2 rows of the dataframe:"
   ]
  },
  {
   "cell_type": "code",
   "execution_count": null,
   "id": "47db70d5-d004-43b3-9275-f840151c3885",
   "metadata": {},
   "outputs": [],
   "source": [
    "dinodata.tail[[-2,-1]]"
   ]
  },
  {
   "cell_type": "markdown",
   "id": "abcda56c-79b9-47a4-8f25-19af67a3554a",
   "metadata": {},
   "source": [
    "Print the number of rows and columns of the dataframe:"
   ]
  },
  {
   "cell_type": "code",
   "execution_count": null,
   "id": "56b0201a-a5df-4556-a8a5-94e42512e239",
   "metadata": {},
   "outputs": [],
   "source": [
    "print(dinodata.shape())"
   ]
  },
  {
   "cell_type": "markdown",
   "id": "07efaaca-29c4-48ba-8414-bbd8fb209ce7",
   "metadata": {},
   "source": [
    "Print the column names of the dataframe:"
   ]
  },
  {
   "cell_type": "code",
   "execution_count": null,
   "id": "c567a56d-9164-4f20-a288-81b9a0e93a94",
   "metadata": {},
   "outputs": [],
   "source": [
    "print(dinodata.columns())"
   ]
  },
  {
   "cell_type": "markdown",
   "id": "57dfe372-af43-4117-911a-7ee6d7edaa5c",
   "metadata": {},
   "source": [
    "Print the datatypes of each column:"
   ]
  },
  {
   "cell_type": "code",
   "execution_count": null,
   "id": "be92014f-0f02-4870-8248-cdcd26d20631",
   "metadata": {},
   "outputs": [],
   "source": [
    "print(dinodata.dtypes())\n"
   ]
  },
  {
   "cell_type": "markdown",
   "id": "a951cd05-74e5-427a-bdad-42648774a6bf",
   "metadata": {},
   "source": [
    "Print summary statistics about the dataframe:"
   ]
  },
  {
   "cell_type": "code",
   "execution_count": null,
   "id": "f23780b0-7953-4db2-9f60-756068d0d203",
   "metadata": {},
   "outputs": [],
   "source": [
    "print(dinodata.describe())"
   ]
  },
  {
   "cell_type": "markdown",
   "id": "e1dcacb1-cf85-4c60-b021-b726f3d8f025",
   "metadata": {},
   "source": [
    "Print the values that are in the 'dataset' column:"
   ]
  },
  {
   "cell_type": "code",
   "execution_count": null,
   "id": "ba3ff179-8f1b-4fa6-aced-7c8ff776a997",
   "metadata": {},
   "outputs": [],
   "source": [
    "print(df['dataset'])"
   ]
  },
  {
   "cell_type": "markdown",
   "id": "c1de1d01-4e27-48b7-aad2-63a4c63477a0",
   "metadata": {},
   "source": [
    "Use \"loc\" to print the first 10 rows:"
   ]
  },
  {
   "cell_type": "code",
   "execution_count": null,
   "id": "a63c2326-ec19-428a-b537-a9aa01e06745",
   "metadata": {},
   "outputs": [],
   "source": [
    "dinodata.loc[[0,10]]"
   ]
  },
  {
   "cell_type": "markdown",
   "id": "7b2df553-b90b-42a7-bbf5-5f3c36f0e2da",
   "metadata": {},
   "source": [
    "Use \"loc\" to print the values from the first 10 rows of the 'x' column:"
   ]
  },
  {
   "cell_type": "code",
   "execution_count": null,
   "id": "888a4243-eae2-4530-9510-232922f45d05",
   "metadata": {},
   "outputs": [],
   "source": [
    "dinodata.iloc[0:10, 1]"
   ]
  },
  {
   "cell_type": "markdown",
   "id": "223232ee-0804-420f-bb8e-ee57a5ae9559",
   "metadata": {},
   "source": [
    "Use \"loc\" to print the rows for which `dataset` is equal to `III`:"
   ]
  },
  {
   "cell_type": "code",
   "execution_count": null,
   "id": "9bbf5774-9658-4858-a5be-06febd2394fd",
   "metadata": {},
   "outputs": [],
   "source": [
    "dinodata['dataset'] == 'III'"
   ]
  },
  {
   "cell_type": "markdown",
   "id": "30f37400-0eb6-4304-853a-d9b25e1d3398",
   "metadata": {},
   "source": [
    "Make a line plot of y against x for dataset III:"
   ]
  },
  {
   "cell_type": "code",
   "execution_count": null,
   "id": "fa0a7be2-04b7-4fd8-b2c6-1a5f196efa0a",
   "metadata": {},
   "outputs": [],
   "source": [
    "a = dinodata[dinodata['dataset'] == 'III'\n",
    "\n",
    "a.plot(x='x', y='y')"
   ]
  },
  {
   "cell_type": "markdown",
   "id": "ff6aeb06-ec01-4b5e-b67f-6e4b86285784",
   "metadata": {},
   "source": [
    "Make a scatter plot of y against x for dataset III:"
   ]
  },
  {
   "cell_type": "code",
   "execution_count": null,
   "id": "3ecabd72-42f9-42fd-8ba4-7e685c0c91f9",
   "metadata": {},
   "outputs": [],
   "source": [
    "a.plot(x='x', y='y',kind='scatter')"
   ]
  },
  {
   "cell_type": "markdown",
   "id": "9c9c84d9-b762-4398-820b-bab70b0ce6dc",
   "metadata": {},
   "source": [
    "Make scatter plots for the other 3 datasets:"
   ]
  },
  {
   "cell_type": "code",
   "execution_count": null,
   "id": "0c9639d7-a744-4cbf-8c4d-82b6da341e74",
   "metadata": {},
   "outputs": [],
   "source": [
    "a = dinodata[dinodata['dataset'] == 'I'\n",
    "\n",
    "a.plot(x='x', y='y',kind='scatter')\n",
    "             \n",
    "a = dinodata[dinodata['dataset'] == 'II'\n",
    "\n",
    "a.plot(x='x', y='y',kind='scatter')\n",
    "\n",
    "a = dinodata[dinodata['dataset'] == 'IIII'\n",
    "\n",
    "a.plot(x='x', y='y',kind='scatter')\n",
    "\n",
    "a = dinodata[dinodata['dataset'] == 'IV'\n",
    "\n",
    "a.plot(x='x', y='y',kind='scatter')"
   ]
  },
  {
   "cell_type": "markdown",
   "id": "510e86e3-80b8-4336-b430-4d0f1a01a1fa",
   "metadata": {},
   "source": [
    "We're working with the datasets from Anscombe's quartet.  You can read about it [here](https://en.wikipedia.org/wiki/Anscombe%27s_quartet).\n",
    "\n",
    "Use that page to find the equation for the linear regression line of these datasets, and make a figure that includes:\n",
    "* a scatter plot of dataset I \n",
    "* a line plot of the linear regression line"
   ]
  },
  {
   "cell_type": "code",
   "execution_count": null,
   "id": "00951528-adeb-45cd-a024-9a32840d85b2",
   "metadata": {},
   "outputs": [],
   "source": [
    "y = 3.00 + 0.500*x\n",
    "\n",
    "a = dinodata[dinodata['dataset'] == 'I'\n",
    "\n",
    "a.plot(x='x', y='y',kind='scatter',color='black')\n"
   ]
  },
  {
   "cell_type": "markdown",
   "id": "cabd1735-2871-4b27-be50-aeb2ce804b9c",
   "metadata": {},
   "source": [
    "Make the same plot again with:\n",
    "* a title\n",
    "* 16-pt font size for the labels and title\n",
    "* make the line blue\n",
    "* make the scatter points black\n",
    "* save the figure into a file called 'anscombe-I.png'"
   ]
  },
  {
   "cell_type": "code",
   "execution_count": null,
   "id": "636423f8-18d1-44f5-833e-721b7cc73677",
   "metadata": {},
   "outputs": [],
   "source": [
    "plt.title('title', fontsize=16)\n",
    "plt.xlabel('x', fontsize=16)\n",
    "plt.ylabel('y', fontsize=16)\n",
    "\n",
    "fig.savefig('anscombe-I.png')"
   ]
  },
  {
   "cell_type": "markdown",
   "id": "9da9464e-1913-4b78-95fa-437efa196913",
   "metadata": {},
   "source": [
    "# End"
   ]
  }
 ],
 "metadata": {
  "kernelspec": {
   "display_name": "Python 3 (ipykernel)",
   "language": "python",
   "name": "python3"
  },
  "language_info": {
   "codemirror_mode": {
    "name": "ipython",
    "version": 3
   },
   "file_extension": ".py",
   "mimetype": "text/x-python",
   "name": "python",
   "nbconvert_exporter": "python",
   "pygments_lexer": "ipython3",
   "version": "3.9.12"
  }
 },
 "nbformat": 4,
 "nbformat_minor": 5
}
